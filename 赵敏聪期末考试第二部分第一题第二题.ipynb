{
 "cells": [
  {
   "cell_type": "code",
   "execution_count": 1,
   "id": "d2be8530",
   "metadata": {},
   "outputs": [],
   "source": [
    "#第一题\n",
    "\n",
    "import numpy as np\n",
    "\n",
    "def format_number(num, decimals=0, last_digit=[]):\n",
    "    '''Format a number to a string suitable for the name of a data directory.\n",
    "    Args:\n",
    "        num (float): a float number to be formatted.\n",
    "        decimals (Optional[int]): Number of decimal places to round to. If decimals is negative, it specifies the number of positions to the left of the decimal point. Default: 0 (round to integer).\n",
    "        last_digit (Optional[List(int)]): A list of single digits that is allowed for the last digit of the output number. Default: [] (all digits are allowed).\n",
    "    Returns:\n",
    "        str: a string represents a float number.\n",
    "    '''\n",
    "    decimals = int(decimals)  # ensure it is an integer\n",
    "    num_rounded = round(num, decimals)\n",
    "    if decimals > 0:\n",
    "        format = '{:.' + repr(decimals) + 'f}'\n",
    "        numstr = format.format(num_rounded)\n",
    "    else:\n",
    "        num_rounded = int(num_rounded)\n",
    "        numstr = '{:d}'.format(num_rounded)\n",
    "\n",
    "    numstr = list(numstr)  # to ease manipulation\n",
    "    last = int(numstr[-1])\n",
    "\n",
    "    if last_digit:\n",
    "        if last not in last_digit:\n",
    "            i = np.searchsorted(np.sort(last_digit), last)\n",
    "            if i == 0:\n",
    "                left = last_digit[0]\n",
    "                right = last_digit[1]\n",
    "            elif i == len(last_digit):\n",
    "                left = last_digit[-2]\n",
    "                right = last_digit[-1]\n",
    "            else:\n",
    "                left = last_digit[i - 1]\n",
    "                right = last_digit[i]\n",
    "            numstr[-1] = repr(left)\n",
    "            num_left = float(''.join(numstr))\n",
    "            numstr[-1] = repr(right)\n",
    "            num_right = float(''.join(numstr))\n",
    "            if abs(num) - abs(num_left) < abs(num_right) - abs(num):\n",
    "                numstr[-1] = repr(left)\n",
    "            else:\n",
    "                numstr[-1] = repr(right)\n",
    "\n",
    "    return ''.join(numstr)\n"
   ]
  },
  {
   "cell_type": "code",
   "execution_count": 7,
   "id": "1f4e0309",
   "metadata": {},
   "outputs": [
    {
     "name": "stdout",
     "output_type": "stream",
     "text": [
      "{x1: -381/442, x2: 347/442, x3: 333/884, x4: 125/884, x5: 529/884}\n"
     ]
    }
   ],
   "source": [
    "#第二题\n",
    "\n",
    "from sympy import symbols , Eq, solve\n",
    "\n",
    "x1,x2,x3,x4,x5=symbols('x1 x2 x3 x4 x5')\n",
    "eqs = [ Eq(x1-3*x3+5*x5,1),\n",
    "        Eq(4*x1-x2+3*x3-2*x4+9*x5,2),\n",
    "        Eq(3*x2+2*x3-5*x4+x5,3),\n",
    "        Eq(x3-4*x4+7*x5,4),\n",
    "        Eq(9*x1+8*x2+7*x3+6*x4+5*x5,5)]\n",
    "print(solve(eqs,[x1,x2,x3,x4,x5]))"
   ]
  },
  {
   "cell_type": "code",
   "execution_count": null,
   "id": "977df2ae",
   "metadata": {},
   "outputs": [],
   "source": []
  }
 ],
 "metadata": {
  "kernelspec": {
   "display_name": "Python 3 (ipykernel)",
   "language": "python",
   "name": "python3"
  },
  "language_info": {
   "codemirror_mode": {
    "name": "ipython",
    "version": 3
   },
   "file_extension": ".py",
   "mimetype": "text/x-python",
   "name": "python",
   "nbconvert_exporter": "python",
   "pygments_lexer": "ipython3",
   "version": "3.9.12"
  }
 },
 "nbformat": 4,
 "nbformat_minor": 5
}
